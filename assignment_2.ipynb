{
 "cells": [
  {
   "cell_type": "code",
   "execution_count": 1,
   "id": "3c275981-66e1-45ed-8bf5-df619537762c",
   "metadata": {},
   "outputs": [],
   "source": [
    "import numpy as np\n",
    "import pandas as pd"
   ]
  },
  {
   "cell_type": "markdown",
   "id": "2c42b10f-0574-4677-826a-59927b77ee32",
   "metadata": {},
   "source": [
    "#Task 1: Numpy Basic"
   ]
  },
  {
   "cell_type": "code",
   "execution_count": 2,
   "id": "d7635392-779f-4384-9ac5-71d08ace294b",
   "metadata": {},
   "outputs": [
    {
     "name": "stdout",
     "output_type": "stream",
     "text": [
      "1D array: [1 2 3 4 5]\n"
     ]
    }
   ],
   "source": [
    "#1. Array Creation\n",
    "# Create 1D and 2D NumPy array\n",
    "arr_1d = np.array([1,2,3,4,5])\n",
    "print(\"1D array:\",arr_1d)"
   ]
  },
  {
   "cell_type": "code",
   "execution_count": 3,
   "id": "277f94ec-6b27-4560-a5a9-586c15a2cbd9",
   "metadata": {},
   "outputs": [
    {
     "name": "stdout",
     "output_type": "stream",
     "text": [
      "2D array:\n",
      " [[1 2 3]\n",
      " [4 5 6]]\n"
     ]
    }
   ],
   "source": [
    "arr_2d = np.array([[1,2,3],[4,5,6]])\n",
    "print(\"2D array:\\n\",arr_2d)"
   ]
  },
  {
   "cell_type": "code",
   "execution_count": 4,
   "id": "44a3f03b-9236-490b-9965-ef3cb0f493b3",
   "metadata": {},
   "outputs": [
    {
     "name": "stdout",
     "output_type": "stream",
     "text": [
      "1D array + 10 [11 12 13 14 15]\n",
      "2D array * 2 [[ 2  4  6]\n",
      " [ 8 10 12]]\n"
     ]
    }
   ],
   "source": [
    "#2. array operations\n",
    "#Perform basic arithmetic operation on the arrays\n",
    "arr_1d_add= arr_1d + 10\n",
    "arr_2d_mult = arr_2d * 2\n",
    "print(\"1D array + 10\",arr_1d_add)\n",
    "print(\"2D array * 2\",arr_2d_mult)"
   ]
  },
  {
   "cell_type": "code",
   "execution_count": 5,
   "id": "a131ff74-4853-4701-a8f1-b6c1241d5bc5",
   "metadata": {},
   "outputs": [
    {
     "name": "stdout",
     "output_type": "stream",
     "text": [
      "First element of 1D: 1\n",
      "First row of 2D array\n",
      " [1 2 3]\n"
     ]
    }
   ],
   "source": [
    "#3. Indexing and Slicing\n",
    "#Demonstrate inexing and slicing on the arrays\n",
    "print(\"First element of 1D:\",arr_1d[0])\n",
    "print(\"First row of 2D array\\n\",arr_2d[0,:])"
   ]
  },
  {
   "cell_type": "code",
   "execution_count": 6,
   "id": "baee35cc-c66d-4135-b9ef-7b88ff9ae468",
   "metadata": {},
   "outputs": [
    {
     "name": "stdout",
     "output_type": "stream",
     "text": [
      "Shape of 2D array: (2, 3)\n",
      "Reshaped 2D Array:\n",
      " [[1 2]\n",
      " [3 4]\n",
      " [5 6]]\n"
     ]
    }
   ],
   "source": [
    "#4. Shape and Reshape\n",
    "# Show how to check the shape of an array and reshape it\n",
    "print(\"Shape of 2D array:\",arr_2d.shape)\n",
    "reshape_arr = arr_2d.reshape((3,2))\n",
    "print(\"Reshaped 2D Array:\\n\",reshape_arr)"
   ]
  },
  {
   "cell_type": "markdown",
   "id": "482911dc-f7b1-44ac-b820-49f5672d3d37",
   "metadata": {},
   "source": [
    "# Task 2: Pandas Basic"
   ]
  },
  {
   "cell_type": "code",
   "execution_count": 7,
   "id": "2870607d-8189-46c0-a301-a336856e3ea3",
   "metadata": {},
   "outputs": [
    {
     "name": "stdout",
     "output_type": "stream",
     "text": [
      "Pandas Series \n",
      " 0    1\n",
      "1    2\n",
      "2    3\n",
      "3    4\n",
      "4    5\n",
      "dtype: int64\n"
     ]
    }
   ],
   "source": [
    "#1. Series and DataFrame Creation\n",
    "#Create a Pandas Series and DataFrame\n",
    "s=pd.Series([1,2,3,4,5])\n",
    "print(\"Pandas Series \\n\",s)"
   ]
  },
  {
   "cell_type": "code",
   "execution_count": 8,
   "id": "00f310ee-101d-4a44-af7a-8981216c581c",
   "metadata": {},
   "outputs": [
    {
     "name": "stdout",
     "output_type": "stream",
     "text": [
      "Pandas DataFrame: \n",
      "    A  B  C\n",
      "0  1  4  7\n",
      "1  2  5  8\n",
      "2  3  6  9\n"
     ]
    }
   ],
   "source": [
    "df= pd.DataFrame({\n",
    "    'A':[1,2,3],\n",
    "    'B':[4,5,6],\n",
    "    'C':[7,8,9]\n",
    "})\n",
    "print (\"Pandas DataFrame: \\n\",df)"
   ]
  },
  {
   "cell_type": "code",
   "execution_count": 9,
   "id": "5a0dedc1-3691-4dc9-a210-565c92372cfb",
   "metadata": {},
   "outputs": [
    {
     "name": "stdout",
     "output_type": "stream",
     "text": [
      "Read DataFrame from CSV :\n",
      "    A  B  C\n",
      "0  1  4  7\n",
      "1  2  5  8\n",
      "2  3  6  9\n"
     ]
    }
   ],
   "source": [
    "#2. Reading Data\n",
    "#Read data from a CSV file\n",
    "df_read= pd.read_csv('sample_data.csv')\n",
    "print(\"Read DataFrame from CSV :\\n\",df_read)"
   ]
  },
  {
   "cell_type": "code",
   "execution_count": 10,
   "id": "2721a149-6322-4440-b8db-7208105a29f3",
   "metadata": {},
   "outputs": [
    {
     "name": "stdout",
     "output_type": "stream",
     "text": [
      "Head of DataFrame: \n",
      "    A  B  C\n",
      "0  1  4  7\n",
      "1  2  5  8\n",
      "2  3  6  9\n",
      "<class 'pandas.core.frame.DataFrame'>\n",
      "RangeIndex: 3 entries, 0 to 2\n",
      "Data columns (total 3 columns):\n",
      " #   Column  Non-Null Count  Dtype\n",
      "---  ------  --------------  -----\n",
      " 0   A       3 non-null      int64\n",
      " 1   B       3 non-null      int64\n",
      " 2   C       3 non-null      int64\n",
      "dtypes: int64(3)\n",
      "memory usage: 204.0 bytes\n",
      "Info of DataFrame:\n",
      "  None\n",
      "Description of DataFrame:\n",
      "          A    B    C\n",
      "count  3.0  3.0  3.0\n",
      "mean   2.0  5.0  8.0\n",
      "std    1.0  1.0  1.0\n",
      "min    1.0  4.0  7.0\n",
      "25%    1.5  4.5  7.5\n",
      "50%    2.0  5.0  8.0\n",
      "75%    2.5  5.5  8.5\n",
      "max    3.0  6.0  9.0\n"
     ]
    }
   ],
   "source": [
    "#3. Data Inspection\n",
    "# Perform basic data inspection method\n",
    "print(\"Head of DataFrame: \\n\",df.head())\n",
    "print(\"Info of DataFrame:\\n \",df.info())\n",
    "print(\"Description of DataFrame:\\n\",df.describe())"
   ]
  },
  {
   "cell_type": "code",
   "execution_count": 11,
   "id": "cd5f1c94-4e31-40a4-ad0a-0cb14d386d4b",
   "metadata": {},
   "outputs": [
    {
     "name": "stdout",
     "output_type": "stream",
     "text": [
      "Column A:\n",
      " 0    1\n",
      "1    2\n",
      "2    3\n",
      "Name: A, dtype: int64\n",
      "Columns A and B:\n",
      "    A  B\n",
      "0  1  4\n",
      "1  2  5\n",
      "2  3  6\n"
     ]
    }
   ],
   "source": [
    "# 4. Data Manipulation\n",
    "# Selecting Data\n",
    "print(\"Column A:\\n\", df['A'])\n",
    "print(\"Columns A and B:\\n\", df[['A', 'B']])"
   ]
  },
  {
   "cell_type": "code",
   "execution_count": 12,
   "id": "82e346c4-9b06-4753-a3db-4c5e3b88dfcb",
   "metadata": {},
   "outputs": [
    {
     "name": "stdout",
     "output_type": "stream",
     "text": [
      "Filtered DataFrame (A > 1):\n",
      "    A  B  C\n",
      "1  2  5  8\n",
      "2  3  6  9\n"
     ]
    }
   ],
   "source": [
    "# Filtering Data\n",
    "filtered_df = df[df['A'] > 1]\n",
    "print(\"Filtered DataFrame (A > 1):\\n\", filtered_df)"
   ]
  },
  {
   "cell_type": "code",
   "execution_count": 13,
   "id": "fc1145e2-20e4-4956-8e63-6433fe2808da",
   "metadata": {},
   "outputs": [
    {
     "name": "stdout",
     "output_type": "stream",
     "text": [
      "DataFrame with new column D:\n",
      "    A  B  C  D\n",
      "0  1  4  7  5\n",
      "1  2  5  8  7\n",
      "2  3  6  9  9\n",
      "DataFrame after dropping column D:\n",
      "    A  B  C\n",
      "0  1  4  7\n",
      "1  2  5  8\n",
      "2  3  6  9\n"
     ]
    }
   ],
   "source": [
    "# Adding/Removing Columns\n",
    "df['D'] = df['A'] + df['B']\n",
    "print(\"DataFrame with new column D:\\n\", df)\n",
    "df.drop('D', axis=1, inplace=True)\n",
    "print(\"DataFrame after dropping column D:\\n\", df)"
   ]
  },
  {
   "cell_type": "code",
   "execution_count": 14,
   "id": "b67b6782-6c00-46ce-b9c5-2eb17f376766",
   "metadata": {},
   "outputs": [
    {
     "name": "stdout",
     "output_type": "stream",
     "text": [
      "DataFrame with NaN:\n",
      "    A    B  C\n",
      "0  1  4.0  7\n",
      "1  2  NaN  8\n",
      "2  3  6.0  9\n",
      "DataFrame after dropping NaN:\n",
      "    A    B  C\n",
      "0  1  4.0  7\n",
      "2  3  6.0  9\n",
      "DataFrame after filling NaN with 0:\n",
      "    A    B  C\n",
      "0  1  4.0  7\n",
      "1  2  0.0  8\n",
      "2  3  6.0  9\n"
     ]
    }
   ],
   "source": [
    "# Handling Missing Data\n",
    "df_with_nan = df.copy()\n",
    "df_with_nan.loc[1, 'B'] = np.nan\n",
    "print(\"DataFrame with NaN:\\n\", df_with_nan)\n",
    "print(\"DataFrame after dropping NaN:\\n\", df_with_nan.dropna())\n",
    "print(\"DataFrame after filling NaN with 0:\\n\", df_with_nan.fillna(0))"
   ]
  },
  {
   "cell_type": "markdown",
   "id": "b791ed36-fe17-4912-8d71-adfa084b7a15",
   "metadata": {},
   "source": [
    "# Task 3: Data Analysis with Pandas"
   ]
  },
  {
   "cell_type": "code",
   "execution_count": 15,
   "id": "fc971e42-36c1-4593-b4fd-a8ac750b826f",
   "metadata": {},
   "outputs": [
    {
     "name": "stdout",
     "output_type": "stream",
     "text": [
      "Mean of column A: 2.0\n",
      "Sum of column A: 6\n"
     ]
    }
   ],
   "source": [
    "# Aggregations\n",
    "print(\"Mean of column A:\", df['A'].mean())\n",
    "print(\"Sum of column A:\", df['A'].sum())"
   ]
  },
  {
   "cell_type": "code",
   "execution_count": 16,
   "id": "f332e994-11b7-41f8-b93c-502c8403e023",
   "metadata": {},
   "outputs": [
    {
     "name": "stdout",
     "output_type": "stream",
     "text": [
      "Merged DataFrame:\n",
      "   key  value_x  value_y\n",
      "0   A        1        4\n",
      "1   B        2        5\n"
     ]
    }
   ],
   "source": [
    "# Merging and Joining\n",
    "df1 = pd.DataFrame({'key': ['A', 'B', 'C'], 'value': [1, 2, 3]})\n",
    "df2 = pd.DataFrame({'key': ['A', 'B', 'D'], 'value': [4, 5, 6]})\n",
    "merged_df = pd.merge(df1, df2, on='key', how='inner')\n",
    "print(\"Merged DataFrame:\\n\", merged_df)"
   ]
  },
  {
   "cell_type": "code",
   "execution_count": 17,
   "id": "ce676264-1f42-41b7-8a34-e9e49720a7f0",
   "metadata": {},
   "outputs": [
    {
     "name": "stdout",
     "output_type": "stream",
     "text": [
      "Pivot Table:\n",
      " B    4    5    6\n",
      "A               \n",
      "1  7.0  NaN  NaN\n",
      "2  NaN  8.0  NaN\n",
      "3  NaN  NaN  9.0\n"
     ]
    }
   ],
   "source": [
    "# Pivot Tables\n",
    "pivot_df = df.pivot_table(values='C', index='A', columns='B', aggfunc='mean')\n",
    "print(\"Pivot Table:\\n\", pivot_df)"
   ]
  },
  {
   "cell_type": "code",
   "execution_count": 18,
   "id": "ce798698-ec6c-4a82-8b85-9093762be85c",
   "metadata": {},
   "outputs": [
    {
     "name": "stdout",
     "output_type": "stream",
     "text": [
      "DataFrame with Date Index:\n",
      "             A  B  C\n",
      "date               \n",
      "2020-01-01  1  4  7\n",
      "2020-01-02  2  5  8\n",
      "2020-01-03  3  6  9\n",
      "Resampled DataFrame:\n",
      "               A    B    C\n",
      "date                     \n",
      "2020-01-31  2.0  5.0  8.0\n"
     ]
    }
   ],
   "source": [
    "# Time Series Analysis\n",
    "df['date'] = pd.date_range(start='1/1/2020', periods=len(df), freq='D')\n",
    "df.set_index('date', inplace=True)\n",
    "print(\"DataFrame with Date Index:\\n\", df)\n",
    "resampled_df = df.resample('M').mean()\n",
    "print(\"Resampled DataFrame:\\n\", resampled_df)"
   ]
  },
  {
   "cell_type": "code",
   "execution_count": null,
   "id": "e4dc76ac-955b-4b8b-9e88-f4c2c732f8c4",
   "metadata": {},
   "outputs": [],
   "source": []
  }
 ],
 "metadata": {
  "kernelspec": {
   "display_name": "Python 3 (ipykernel)",
   "language": "python",
   "name": "python3"
  },
  "language_info": {
   "codemirror_mode": {
    "name": "ipython",
    "version": 3
   },
   "file_extension": ".py",
   "mimetype": "text/x-python",
   "name": "python",
   "nbconvert_exporter": "python",
   "pygments_lexer": "ipython3",
   "version": "3.11.7"
  }
 },
 "nbformat": 4,
 "nbformat_minor": 5
}
